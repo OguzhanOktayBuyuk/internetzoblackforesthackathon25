{
 "cells": [
  {
   "cell_type": "code",
   "execution_count": 2,
   "metadata": {},
   "outputs": [],
   "source": [
    "import geopandas as gpd\n"
   ]
  },
  {
   "cell_type": "markdown",
   "metadata": {},
   "source": [
    "#### nexiga daten"
   ]
  },
  {
   "cell_type": "code",
   "execution_count": 3,
   "metadata": {},
   "outputs": [
    {
     "ename": "KeyboardInterrupt",
     "evalue": "",
     "output_type": "error",
     "traceback": [
      "\u001b[0;31m---------------------------------------------------------------------------\u001b[0m",
      "\u001b[0;31mKeyboardInterrupt\u001b[0m                         Traceback (most recent call last)",
      "\u001b[1;32m/home/heisenberg/Projects/internetzoblackforesthackathon25/visualize.ipynb Cell 3\u001b[0m line \u001b[0;36m2\n\u001b[1;32m      <a href='vscode-notebook-cell:/home/heisenberg/Projects/internetzoblackforesthackathon25/visualize.ipynb#W2sZmlsZQ%3D%3D?line=0'>1</a>\u001b[0m path_nexiga_data \u001b[39m=\u001b[39m \u001b[39m\"\u001b[39m\u001b[39mHackathon/Daten Hackaton (ALKIS,Nexiga,PV,HK)/Datenquellen/Nexiga Daten/nexiga_all.shp\u001b[39m\u001b[39m\"\u001b[39m\n\u001b[0;32m----> <a href='vscode-notebook-cell:/home/heisenberg/Projects/internetzoblackforesthackathon25/visualize.ipynb#W2sZmlsZQ%3D%3D?line=1'>2</a>\u001b[0m nexiga_gdf \u001b[39m=\u001b[39m gpd\u001b[39m.\u001b[39;49mread_file(path_nexiga_data)\n\u001b[1;32m      <a href='vscode-notebook-cell:/home/heisenberg/Projects/internetzoblackforesthackathon25/visualize.ipynb#W2sZmlsZQ%3D%3D?line=2'>3</a>\u001b[0m nexiga_gdf\u001b[39m.\u001b[39mto_crs(epsg\u001b[39m=\u001b[39m\u001b[39m3857\u001b[39m, inplace\u001b[39m=\u001b[39m\u001b[39mTrue\u001b[39;00m)\n\u001b[1;32m      <a href='vscode-notebook-cell:/home/heisenberg/Projects/internetzoblackforesthackathon25/visualize.ipynb#W2sZmlsZQ%3D%3D?line=3'>4</a>\u001b[0m nexiga_gdf\n",
      "File \u001b[0;32m~/Projects/internetzoblackforesthackathon25/internetzo/lib/python3.8/site-packages/geopandas/io/file.py:281\u001b[0m, in \u001b[0;36m_read_file\u001b[0;34m(filename, bbox, mask, rows, engine, **kwargs)\u001b[0m\n\u001b[1;32m    278\u001b[0m     \u001b[39melse\u001b[39;00m:\n\u001b[1;32m    279\u001b[0m         path_or_bytes \u001b[39m=\u001b[39m filename\n\u001b[0;32m--> 281\u001b[0m     \u001b[39mreturn\u001b[39;00m _read_file_fiona(\n\u001b[1;32m    282\u001b[0m         path_or_bytes, from_bytes, bbox\u001b[39m=\u001b[39;49mbbox, mask\u001b[39m=\u001b[39;49mmask, rows\u001b[39m=\u001b[39;49mrows, \u001b[39m*\u001b[39;49m\u001b[39m*\u001b[39;49mkwargs\n\u001b[1;32m    283\u001b[0m     )\n\u001b[1;32m    285\u001b[0m \u001b[39melse\u001b[39;00m:\n\u001b[1;32m    286\u001b[0m     \u001b[39mraise\u001b[39;00m \u001b[39mValueError\u001b[39;00m(\u001b[39mf\u001b[39m\u001b[39m\"\u001b[39m\u001b[39munknown engine \u001b[39m\u001b[39m'\u001b[39m\u001b[39m{\u001b[39;00mengine\u001b[39m}\u001b[39;00m\u001b[39m'\u001b[39m\u001b[39m\"\u001b[39m)\n",
      "File \u001b[0;32m~/Projects/internetzoblackforesthackathon25/internetzo/lib/python3.8/site-packages/geopandas/io/file.py:379\u001b[0m, in \u001b[0;36m_read_file_fiona\u001b[0;34m(path_or_bytes, from_bytes, bbox, mask, rows, where, **kwargs)\u001b[0m\n\u001b[1;32m    375\u001b[0m     df \u001b[39m=\u001b[39m pd\u001b[39m.\u001b[39mDataFrame(\n\u001b[1;32m    376\u001b[0m         [record[\u001b[39m\"\u001b[39m\u001b[39mproperties\u001b[39m\u001b[39m\"\u001b[39m] \u001b[39mfor\u001b[39;00m record \u001b[39min\u001b[39;00m f_filt], columns\u001b[39m=\u001b[39mcolumns\n\u001b[1;32m    377\u001b[0m     )\n\u001b[1;32m    378\u001b[0m \u001b[39melse\u001b[39;00m:\n\u001b[0;32m--> 379\u001b[0m     df \u001b[39m=\u001b[39m GeoDataFrame\u001b[39m.\u001b[39;49mfrom_features(\n\u001b[1;32m    380\u001b[0m         f_filt, crs\u001b[39m=\u001b[39;49mcrs, columns\u001b[39m=\u001b[39;49mcolumns \u001b[39m+\u001b[39;49m [\u001b[39m\"\u001b[39;49m\u001b[39mgeometry\u001b[39;49m\u001b[39m\"\u001b[39;49m]\n\u001b[1;32m    381\u001b[0m     )\n\u001b[1;32m    382\u001b[0m \u001b[39mfor\u001b[39;00m k \u001b[39min\u001b[39;00m datetime_fields:\n\u001b[1;32m    383\u001b[0m     as_dt \u001b[39m=\u001b[39m pd\u001b[39m.\u001b[39mto_datetime(df[k], errors\u001b[39m=\u001b[39m\u001b[39m\"\u001b[39m\u001b[39mignore\u001b[39m\u001b[39m\"\u001b[39m)\n",
      "File \u001b[0;32m~/Projects/internetzoblackforesthackathon25/internetzo/lib/python3.8/site-packages/geopandas/geodataframe.py:638\u001b[0m, in \u001b[0;36mGeoDataFrame.from_features\u001b[0;34m(cls, features, crs, columns)\u001b[0m\n\u001b[1;32m    635\u001b[0m \u001b[39mfor\u001b[39;00m feature \u001b[39min\u001b[39;00m features_lst:\n\u001b[1;32m    636\u001b[0m     \u001b[39m# load geometry\u001b[39;00m\n\u001b[1;32m    637\u001b[0m     \u001b[39mif\u001b[39;00m \u001b[39mhasattr\u001b[39m(feature, \u001b[39m\"\u001b[39m\u001b[39m__geo_interface__\u001b[39m\u001b[39m\"\u001b[39m):\n\u001b[0;32m--> 638\u001b[0m         feature \u001b[39m=\u001b[39m feature\u001b[39m.\u001b[39;49m__geo_interface__\n\u001b[1;32m    639\u001b[0m     row \u001b[39m=\u001b[39m {\n\u001b[1;32m    640\u001b[0m         \u001b[39m\"\u001b[39m\u001b[39mgeometry\u001b[39m\u001b[39m\"\u001b[39m: shape(feature[\u001b[39m\"\u001b[39m\u001b[39mgeometry\u001b[39m\u001b[39m\"\u001b[39m]) \u001b[39mif\u001b[39;00m feature[\u001b[39m\"\u001b[39m\u001b[39mgeometry\u001b[39m\u001b[39m\"\u001b[39m] \u001b[39melse\u001b[39;00m \u001b[39mNone\u001b[39;00m\n\u001b[1;32m    641\u001b[0m     }\n\u001b[1;32m    642\u001b[0m     \u001b[39m# load properties\u001b[39;00m\n",
      "File \u001b[0;32m~/Projects/internetzoblackforesthackathon25/internetzo/lib/python3.8/site-packages/fiona/model.py:367\u001b[0m, in \u001b[0;36mFeature.__geo_interface__\u001b[0;34m(self)\u001b[0m\n\u001b[1;32m    365\u001b[0m \u001b[39m@property\u001b[39m\n\u001b[1;32m    366\u001b[0m \u001b[39mdef\u001b[39;00m\u001b[39m \u001b[39m\u001b[39m__geo_interface__\u001b[39m(\u001b[39mself\u001b[39m):\n\u001b[0;32m--> 367\u001b[0m     \u001b[39mreturn\u001b[39;00m ObjectEncoder()\u001b[39m.\u001b[39;49mdefault(\u001b[39mself\u001b[39;49m)\n",
      "File \u001b[0;32m~/Projects/internetzoblackforesthackathon25/internetzo/lib/python3.8/site-packages/fiona/model.py:388\u001b[0m, in \u001b[0;36mObjectEncoder.default\u001b[0;34m(self, o)\u001b[0m\n\u001b[1;32m    386\u001b[0m \u001b[39mdef\u001b[39;00m\u001b[39m \u001b[39m\u001b[39mdefault\u001b[39m(\u001b[39mself\u001b[39m, o):\n\u001b[1;32m    387\u001b[0m     \u001b[39mif\u001b[39;00m \u001b[39misinstance\u001b[39m(o, Object):\n\u001b[0;32m--> 388\u001b[0m         o_dict \u001b[39m=\u001b[39m {k: \u001b[39mself\u001b[39m\u001b[39m.\u001b[39mdefault(v) \u001b[39mfor\u001b[39;00m k, v \u001b[39min\u001b[39;00m o\u001b[39m.\u001b[39mitems()}\n\u001b[1;32m    389\u001b[0m         \u001b[39mif\u001b[39;00m \u001b[39misinstance\u001b[39m(o, Geometry):\n\u001b[1;32m    390\u001b[0m             \u001b[39mif\u001b[39;00m o\u001b[39m.\u001b[39mtype \u001b[39m==\u001b[39m \u001b[39m\"\u001b[39m\u001b[39mGeometryCollection\u001b[39m\u001b[39m\"\u001b[39m:\n",
      "File \u001b[0;32m~/Projects/internetzoblackforesthackathon25/internetzo/lib/python3.8/site-packages/fiona/model.py:388\u001b[0m, in \u001b[0;36m<dictcomp>\u001b[0;34m(.0)\u001b[0m\n\u001b[1;32m    386\u001b[0m \u001b[39mdef\u001b[39;00m\u001b[39m \u001b[39m\u001b[39mdefault\u001b[39m(\u001b[39mself\u001b[39m, o):\n\u001b[1;32m    387\u001b[0m     \u001b[39mif\u001b[39;00m \u001b[39misinstance\u001b[39m(o, Object):\n\u001b[0;32m--> 388\u001b[0m         o_dict \u001b[39m=\u001b[39m {k: \u001b[39mself\u001b[39;49m\u001b[39m.\u001b[39;49mdefault(v) \u001b[39mfor\u001b[39;00m k, v \u001b[39min\u001b[39;00m o\u001b[39m.\u001b[39mitems()}\n\u001b[1;32m    389\u001b[0m         \u001b[39mif\u001b[39;00m \u001b[39misinstance\u001b[39m(o, Geometry):\n\u001b[1;32m    390\u001b[0m             \u001b[39mif\u001b[39;00m o\u001b[39m.\u001b[39mtype \u001b[39m==\u001b[39m \u001b[39m\"\u001b[39m\u001b[39mGeometryCollection\u001b[39m\u001b[39m\"\u001b[39m:\n",
      "File \u001b[0;32m~/Projects/internetzoblackforesthackathon25/internetzo/lib/python3.8/site-packages/fiona/model.py:388\u001b[0m, in \u001b[0;36mObjectEncoder.default\u001b[0;34m(self, o)\u001b[0m\n\u001b[1;32m    386\u001b[0m \u001b[39mdef\u001b[39;00m\u001b[39m \u001b[39m\u001b[39mdefault\u001b[39m(\u001b[39mself\u001b[39m, o):\n\u001b[1;32m    387\u001b[0m     \u001b[39mif\u001b[39;00m \u001b[39misinstance\u001b[39m(o, Object):\n\u001b[0;32m--> 388\u001b[0m         o_dict \u001b[39m=\u001b[39m {k: \u001b[39mself\u001b[39m\u001b[39m.\u001b[39mdefault(v) \u001b[39mfor\u001b[39;00m k, v \u001b[39min\u001b[39;00m o\u001b[39m.\u001b[39mitems()}\n\u001b[1;32m    389\u001b[0m         \u001b[39mif\u001b[39;00m \u001b[39misinstance\u001b[39m(o, Geometry):\n\u001b[1;32m    390\u001b[0m             \u001b[39mif\u001b[39;00m o\u001b[39m.\u001b[39mtype \u001b[39m==\u001b[39m \u001b[39m\"\u001b[39m\u001b[39mGeometryCollection\u001b[39m\u001b[39m\"\u001b[39m:\n",
      "File \u001b[0;32m~/Projects/internetzoblackforesthackathon25/internetzo/lib/python3.8/site-packages/fiona/model.py:388\u001b[0m, in \u001b[0;36m<dictcomp>\u001b[0;34m(.0)\u001b[0m\n\u001b[1;32m    386\u001b[0m \u001b[39mdef\u001b[39;00m\u001b[39m \u001b[39m\u001b[39mdefault\u001b[39m(\u001b[39mself\u001b[39m, o):\n\u001b[1;32m    387\u001b[0m     \u001b[39mif\u001b[39;00m \u001b[39misinstance\u001b[39m(o, Object):\n\u001b[0;32m--> 388\u001b[0m         o_dict \u001b[39m=\u001b[39m {k: \u001b[39mself\u001b[39m\u001b[39m.\u001b[39mdefault(v) \u001b[39mfor\u001b[39;00m k, v \u001b[39min\u001b[39;00m o\u001b[39m.\u001b[39mitems()}\n\u001b[1;32m    389\u001b[0m         \u001b[39mif\u001b[39;00m \u001b[39misinstance\u001b[39m(o, Geometry):\n\u001b[1;32m    390\u001b[0m             \u001b[39mif\u001b[39;00m o\u001b[39m.\u001b[39mtype \u001b[39m==\u001b[39m \u001b[39m\"\u001b[39m\u001b[39mGeometryCollection\u001b[39m\u001b[39m\"\u001b[39m:\n",
      "File \u001b[0;32m/usr/lib/python3.8/_collections_abc.py:744\u001b[0m, in \u001b[0;36mItemsView.__iter__\u001b[0;34m(self)\u001b[0m\n\u001b[1;32m    742\u001b[0m \u001b[39mdef\u001b[39;00m\u001b[39m \u001b[39m\u001b[39m__iter__\u001b[39m(\u001b[39mself\u001b[39m):\n\u001b[1;32m    743\u001b[0m     \u001b[39mfor\u001b[39;00m key \u001b[39min\u001b[39;00m \u001b[39mself\u001b[39m\u001b[39m.\u001b[39m_mapping:\n\u001b[0;32m--> 744\u001b[0m         \u001b[39myield\u001b[39;00m (key, \u001b[39mself\u001b[39;49m\u001b[39m.\u001b[39;49m_mapping[key])\n",
      "File \u001b[0;32m~/Projects/internetzoblackforesthackathon25/internetzo/lib/python3.8/site-packages/fiona/model.py:139\u001b[0m, in \u001b[0;36mObject.__getitem__\u001b[0;34m(self, item)\u001b[0m\n\u001b[1;32m    137\u001b[0m \u001b[39mdef\u001b[39;00m\u001b[39m \u001b[39m\u001b[39m__getitem__\u001b[39m(\u001b[39mself\u001b[39m, item):\n\u001b[1;32m    138\u001b[0m     props \u001b[39m=\u001b[39m \u001b[39mself\u001b[39m\u001b[39m.\u001b[39m_props()\n\u001b[0;32m--> 139\u001b[0m     props\u001b[39m.\u001b[39;49mupdate(\u001b[39m*\u001b[39;49m\u001b[39m*\u001b[39;49m\u001b[39mself\u001b[39;49m\u001b[39m.\u001b[39;49m_data)\n\u001b[1;32m    140\u001b[0m     \u001b[39mreturn\u001b[39;00m props[item]\n",
      "\u001b[0;31mKeyboardInterrupt\u001b[0m: "
     ]
    }
   ],
   "source": [
    "path_nexiga_data = \"Hackathon/Daten Hackaton (ALKIS,Nexiga,PV,HK)/Datenquellen/Nexiga Daten/nexiga_all.shp\"\n",
    "nexiga_gdf = gpd.read_file(path_nexiga_data)\n",
    "nexiga_gdf.to_crs(epsg=3857, inplace=True)\n",
    "nexiga_gdf\n",
    "# write to file\n",
    "nexiga_gdf.to_file(\"nexiga_all.geojson\", driver=\"GeoJSONSeq\", engine= \"fiona\")"
   ]
  },
  {
   "cell_type": "markdown",
   "metadata": {},
   "source": [
    "### SOLAR Potential"
   ]
  },
  {
   "cell_type": "code",
   "execution_count": 5,
   "metadata": {},
   "outputs": [],
   "source": [
    "path_solar_potential_8311 = \"Hackathon/Daten Hackaton (ALKIS,Nexiga,PV,HK)/Datenquellen/Solarpotenzial/8311_Solarpotenzial_Dachseiten_Freiburg_Stadt/Solarpotenziale_Dachseiten_Freiburg_Stadt.shp\"\n",
    "path_solar_potential_8315 = \"Hackathon/Daten Hackaton (ALKIS,Nexiga,PV,HK)/Datenquellen/Solarpotenzial/8315_Solarpotenzial_Dachseiten_Breisgau_Hochschwarzwald/Solarpotenziale_Dachseiten_LK_Breisgau_Hochschwarzwald.shp\"\n",
    "path_solar_potential_8316 = \"Hackathon/Daten Hackaton (ALKIS,Nexiga,PV,HK)/Datenquellen/Solarpotenzial/8316_Solarpotenzial_Dachseiten_Emmendingen/Solarpotenziale_Dachseiten_LK_Emmendingen.shp\"\n",
    "path_solar_potential_8337 = \"Hackathon/Daten Hackaton (ALKIS,Nexiga,PV,HK)/Datenquellen/Solarpotenzial/8337_Solarpotenzial_Dachseiten_Waldshut/Solarpotenziale_Dachseiten_LK_Waldshut.shp\"\n",
    "\n",
    "\n",
    "\n",
    "\n"
   ]
  },
  {
   "cell_type": "code",
   "execution_count": 5,
   "metadata": {},
   "outputs": [],
   "source": [
    "solar_8316_gdf = gpd.read_file(path_solar_potential_8316)\n",
    "solar_8316_gdf.to_crs(epsg=3857, inplace=True)\n",
    "solar_8316_gdf.to_file(\"solar_potential_8316.geojson\", driver=\"GeoJSONSeq\", engine= \"fiona\")"
   ]
  },
  {
   "cell_type": "code",
   "execution_count": 6,
   "metadata": {},
   "outputs": [],
   "source": [
    "\n",
    "solar_8337_gdf = gpd.read_file(path_solar_potential_8337)\n",
    "solar_8337_gdf.to_crs(epsg=3857, inplace=True)\n",
    "solar_8337_gdf.to_file(\"solar_potential_8337.geojson\", driver=\"GeoJSONSeq\", engine= \"fiona\")\n"
   ]
  },
  {
   "cell_type": "code",
   "execution_count": 6,
   "metadata": {},
   "outputs": [],
   "source": [
    "solar_8315_gdf = gpd.read_file(path_solar_potential_8315)\n",
    "solar_8315_gdf.to_crs(epsg=3857, inplace=True)\n",
    "solar_8315_gdf.to_file(\"solar_potential_8315.geojson\", driver=\"GeoJSONSeq\", engine= \"fiona\")"
   ]
  }
 ],
 "metadata": {
  "kernelspec": {
   "display_name": "internetzo",
   "language": "python",
   "name": "python3"
  },
  "language_info": {
   "codemirror_mode": {
    "name": "ipython",
    "version": 3
   },
   "file_extension": ".py",
   "mimetype": "text/x-python",
   "name": "python",
   "nbconvert_exporter": "python",
   "pygments_lexer": "ipython3",
   "version": "3.8.10"
  }
 },
 "nbformat": 4,
 "nbformat_minor": 2
}
